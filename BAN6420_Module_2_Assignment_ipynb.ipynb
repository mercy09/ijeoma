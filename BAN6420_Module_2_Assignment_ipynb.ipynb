{
  "nbformat": 4,
  "nbformat_minor": 0,
  "metadata": {
    "colab": {
      "provenance": [],
      "authorship_tag": "ABX9TyOxSOuWZYi8g9TSOxn7WFYc",
      "include_colab_link": true
    },
    "kernelspec": {
      "name": "python3",
      "display_name": "Python 3"
    },
    "language_info": {
      "name": "python"
    }
  },
  "cells": [
    {
      "cell_type": "markdown",
      "metadata": {
        "id": "view-in-github",
        "colab_type": "text"
      },
      "source": [
        "<a href=\"https://colab.research.google.com/github/mercy09/ijeoma/blob/main/BAN6420_Module_2_Assignment_ipynb.ipynb\" target=\"_parent\"><img src=\"https://colab.research.google.com/assets/colab-badge.svg\" alt=\"Open In Colab\"/></a>"
      ]
    },
    {
      "cell_type": "code",
      "execution_count": 4,
      "metadata": {
        "colab": {
          "base_uri": "https://localhost:8080/"
        },
        "id": "XldkGhdKtfsE",
        "outputId": "cabd56cf-49d1-44fe-f02a-3d21244a9b7a"
      },
      "outputs": [
        {
          "output_type": "stream",
          "name": "stdout",
          "text": [
            "\n",
            "Missing Values Before Handling:\n",
            "custID               0\n",
            "custName             1\n",
            "Age                  7\n",
            "Product              1\n",
            "DatePurchased        7\n",
            "Price                4\n",
            "RatingOfProduct      7\n",
            "AdvertisingAgency    6\n",
            "dtype: int64\n"
          ]
        }
      ],
      "source": [
        "# prompt:  load and read the dataset, clean the data by handling and replace missing data, remove duplicate records and standardize data type and save it in an Excel format explaining in detail all the steps taken\n",
        "\n",
        "import pandas as pd\n",
        "import numpy as np\n",
        "\n",
        "# Load the dataset\n",
        "try:\n",
        "    df = pd.read_csv('/content/dataset.txt')\n",
        "except FileNotFoundError:\n",
        "    print(\"Error: 'your_dataset.txt' not found. Please ensure the file exists and the path is correct.\")\n",
        "    df.head()\n",
        "\n",
        "# 1. Handling Missing Data\n",
        "# Check for missing values\n",
        "print(\"\\nMissing Values Before Handling:\")\n",
        "print(df.isnull().sum())\n",
        "\n",
        "\n"
      ]
    },
    {
      "cell_type": "code",
      "source": [
        "#Replace missing numerical data with the mean (or median if more appropriate)\n",
        "numerical_cols = df.select_dtypes(include=np.number).columns\n",
        "for col in numerical_cols:\n",
        "    if df[col].isnull().any():\n",
        "      df[col].fillna(df[col].mean(), inplace=True) # or .median()\n",
        "\n",
        "# Replace missing categorical data with the mode\n",
        "categorical_cols = df.select_dtypes(exclude=np.number).columns\n",
        "for col in categorical_cols:\n",
        "    if df[col].isnull().any():\n",
        "        df[col].fillna(df[col].mode()[0], inplace=True)\n",
        "\n",
        "print(\"\\nMissing Values After Handling:\")\n",
        "print(df.isnull().sum())\n",
        "\n",
        "\n",
        "# 2. Removing Duplicate Records\n",
        "print(\"\\nShape before removing duplicates:\", df.shape)\n",
        "df.drop_duplicates(inplace=True)\n",
        "print(\"Shape after removing duplicates:\", df.shape)\n",
        "\n",
        "# 3. Standardizing Data Types\n",
        "# Example: Convert a column to numeric, handling errors\n",
        "try:\n",
        "    df['column_to_convert'] = pd.to_numeric(df['column_to_convert'], errors='coerce') # errors='coerce' will replace invalid values with NaN\n",
        "    df['column_to_convert'].fillna(df['column_to_convert'].mean(), inplace=True)\n",
        "except KeyError:\n",
        "  print(\"Warning: 'column_to_convert' not found in dataset. Skipping type conversion.\")\n",
        "\n",
        "# Further data type conversions can be added as needed\n",
        "\n",
        "\n",
        "# 4. Save to Excel\n",
        "try:\n",
        "  df.to_excel('cleaned_dataset.xlsx', index=False)\n",
        "  print(\"\\nCleaned dataset saved to 'cleaned_dataset.xlsx'\")\n",
        "except Exception as e:\n",
        "  print(f\"An error occurred during saving: {e}\")\n",
        "\n"
      ],
      "metadata": {
        "colab": {
          "base_uri": "https://localhost:8080/"
        },
        "id": "AUs8F7uRvn8v",
        "outputId": "fb07ceb4-6c04-43f4-8080-7f4f46c210af"
      },
      "execution_count": 5,
      "outputs": [
        {
          "output_type": "stream",
          "name": "stdout",
          "text": [
            "\n",
            "Missing Values After Handling:\n",
            "custID               0\n",
            "custName             0\n",
            "Age                  0\n",
            "Product              0\n",
            "DatePurchased        0\n",
            "Price                0\n",
            "RatingOfProduct      0\n",
            "AdvertisingAgency    0\n",
            "dtype: int64\n",
            "\n",
            "Shape before removing duplicates: (100, 8)\n",
            "Shape after removing duplicates: (100, 8)\n",
            "Warning: 'column_to_convert' not found in dataset. Skipping type conversion.\n",
            "\n",
            "Cleaned dataset saved to 'cleaned_dataset.xlsx'\n"
          ]
        },
        {
          "output_type": "stream",
          "name": "stderr",
          "text": [
            "<ipython-input-5-3423ff80c34e>:5: FutureWarning: A value is trying to be set on a copy of a DataFrame or Series through chained assignment using an inplace method.\n",
            "The behavior will change in pandas 3.0. This inplace method will never work because the intermediate object on which we are setting values always behaves as a copy.\n",
            "\n",
            "For example, when doing 'df[col].method(value, inplace=True)', try using 'df.method({col: value}, inplace=True)' or df[col] = df[col].method(value) instead, to perform the operation inplace on the original object.\n",
            "\n",
            "\n",
            "  df[col].fillna(df[col].mean(), inplace=True) # or .median()\n",
            "<ipython-input-5-3423ff80c34e>:11: FutureWarning: A value is trying to be set on a copy of a DataFrame or Series through chained assignment using an inplace method.\n",
            "The behavior will change in pandas 3.0. This inplace method will never work because the intermediate object on which we are setting values always behaves as a copy.\n",
            "\n",
            "For example, when doing 'df[col].method(value, inplace=True)', try using 'df.method({col: value}, inplace=True)' or df[col] = df[col].method(value) instead, to perform the operation inplace on the original object.\n",
            "\n",
            "\n",
            "  df[col].fillna(df[col].mode()[0], inplace=True)\n"
          ]
        }
      ]
    }
  ]
}