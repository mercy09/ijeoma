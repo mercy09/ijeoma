{
  "nbformat": 4,
  "nbformat_minor": 0,
  "metadata": {
    "colab": {
      "provenance": [],
      "authorship_tag": "ABX9TyPh2auG/KhbbR0Lvpmp/BUO",
      "include_colab_link": true
    },
    "kernelspec": {
      "name": "python3",
      "display_name": "Python 3"
    },
    "language_info": {
      "name": "python"
    }
  },
  "cells": [
    {
      "cell_type": "markdown",
      "metadata": {
        "id": "view-in-github",
        "colab_type": "text"
      },
      "source": [
        "<a href=\"https://colab.research.google.com/github/mercy09/ijeoma/blob/main/BAN6440%20MODULE%203%20LINEAR%20REGRESSION%20ASSIGNMENT.ipynb\" target=\"_parent\"><img src=\"https://colab.research.google.com/assets/colab-badge.svg\" alt=\"Open In Colab\"/></a>"
      ]
    },
    {
      "cell_type": "code",
      "execution_count": 69,
      "metadata": {
        "colab": {
          "base_uri": "https://localhost:8080/"
        },
        "id": "a0ArfwQcuvcx",
        "outputId": "0a5f3d43-bcce-4732-f88a-ad4175fb2b95"
      },
      "outputs": [
        {
          "output_type": "stream",
          "name": "stderr",
          "text": [
            "[nltk_data] Downloading package punkt_tab to /root/nltk_data...\n",
            "[nltk_data]   Package punkt_tab is already up-to-date!\n"
          ]
        }
      ],
      "source": [
        "#Import Libraries\n",
        "import nltk\n",
        "# Download necessary data for tokenization\n",
        "nltk.download('punkt_tab')\n",
        "import pandas as pd\n",
        "import numpy as np\n",
        "import re\n",
        "import string\n",
        "import nltk\n",
        "from nltk.corpus import stopwords\n",
        "from nltk.tokenize import word_tokenize\n",
        "from sklearn.model_selection import train_test_split\n",
        "from sklearn.feature_extraction.text import TfidfVectorizer\n",
        "from sklearn.linear_model import LogisticRegression, LinearRegression\n",
        "from sklearn.metrics import accuracy_score, classification_report, mean_squared_error\n",
        "import unittest"
      ]
    },
    {
      "cell_type": "code",
      "source": [
        "#Load Dataset\n",
        "file_path = '/content/spam_Emails_data.csv'\n",
        "df = pd.read_csv(file_path)\n",
        "print(df.head())\n",
        "print(df.info())"
      ],
      "metadata": {
        "colab": {
          "base_uri": "https://localhost:8080/"
        },
        "id": "IVrylsYy-GGd",
        "outputId": "1c962351-acdf-465b-861a-cece23d1869b"
      },
      "execution_count": 4,
      "outputs": [
        {
          "output_type": "stream",
          "name": "stdout",
          "text": [
            "  label                                               text\n",
            "0  Spam  viiiiiiagraaaa\\nonly for the ones that want to...\n",
            "1   Ham  got ice thought look az original message ice o...\n",
            "2  Spam  yo ur wom an ne eds an escapenumber in ch ma n...\n",
            "3  Spam  start increasing your odds of success & live s...\n",
            "4   Ham  author jra date escapenumber escapenumber esca...\n",
            "<class 'pandas.core.frame.DataFrame'>\n",
            "RangeIndex: 23726 entries, 0 to 23725\n",
            "Data columns (total 2 columns):\n",
            " #   Column  Non-Null Count  Dtype \n",
            "---  ------  --------------  ----- \n",
            " 0   label   23726 non-null  object\n",
            " 1   text    23726 non-null  object\n",
            "dtypes: object(2)\n",
            "memory usage: 370.8+ KB\n",
            "None\n"
          ]
        }
      ]
    },
    {
      "cell_type": "code",
      "source": [
        "#Convert Labels to Binary\n",
        "df['label'] = df['label'].map({'spam': 1, 'ham': 0})\n",
        "# Print some info to check the DataFrame\n",
        "print(df.head())\n",
        "print(df.info())\n",
        "print(df['label'].value_counts()) # Check the distribution of labels\n",
        "\n"
      ],
      "metadata": {
        "colab": {
          "base_uri": "https://localhost:8080/"
        },
        "id": "9J5edIdYCWYE",
        "outputId": "68ad9722-d3c1-48f6-850c-b8e4945ca4c4"
      },
      "execution_count": 22,
      "outputs": [
        {
          "output_type": "stream",
          "name": "stdout",
          "text": [
            "   label                                               text\n",
            "0      1  viiiiiiagraaaa\\nonly for the ones that want to...\n",
            "1      0  got ice thought look az original message ice o...\n",
            "2      1  yo ur wom an ne eds an escapenumber in ch ma n...\n",
            "3      1  start increasing your odds of success & live s...\n",
            "4      0  author jra date escapenumber escapenumber esca...\n",
            "<class 'pandas.core.frame.DataFrame'>\n",
            "RangeIndex: 23726 entries, 0 to 23725\n",
            "Data columns (total 2 columns):\n",
            " #   Column  Non-Null Count  Dtype \n",
            "---  ------  --------------  ----- \n",
            " 0   label   23726 non-null  int64 \n",
            " 1   text    23726 non-null  object\n",
            "dtypes: int64(1), object(1)\n",
            "memory usage: 370.8+ KB\n",
            "None\n",
            "label\n",
            "0    12563\n",
            "1    11163\n",
            "Name: count, dtype: int64\n"
          ]
        }
      ]
    },
    {
      "cell_type": "code",
      "source": [
        "# Drop duplicates\n",
        "df.drop_duplicates(inplace=True)"
      ],
      "metadata": {
        "id": "k94GC3zH-17r"
      },
      "execution_count": 23,
      "outputs": []
    },
    {
      "cell_type": "code",
      "source": [
        "# Handle missing values (you can modify the strategy)\n",
        "df.fillna(method='ffill', inplace=True)"
      ],
      "metadata": {
        "colab": {
          "base_uri": "https://localhost:8080/"
        },
        "id": "vOIfcqid-6Co",
        "outputId": "9cfdfa90-2cea-436e-8051-cc38d9f2dc54"
      },
      "execution_count": 24,
      "outputs": [
        {
          "output_type": "stream",
          "name": "stderr",
          "text": [
            "<ipython-input-24-31291186d4b1>:2: FutureWarning: DataFrame.fillna with 'method' is deprecated and will raise in a future version. Use obj.ffill() or obj.bfill() instead.\n",
            "  df.fillna(method='ffill', inplace=True)\n"
          ]
        }
      ]
    },
    {
      "cell_type": "code",
      "source": [
        "# Convert all text columns to lowercase (optional)\n",
        "for col in df.select_dtypes(include=['object']).columns:\n",
        "    df[col] = df[col].str.lower()"
      ],
      "metadata": {
        "id": "8NrruP0o_IEw"
      },
      "execution_count": 25,
      "outputs": []
    },
    {
      "cell_type": "code",
      "source": [
        "df.shape"
      ],
      "metadata": {
        "colab": {
          "base_uri": "https://localhost:8080/"
        },
        "id": "-9MuQ_1j_y6a",
        "outputId": "bc3fbf4b-f0b3-4368-93c2-f4c2245d1cc6"
      },
      "execution_count": 26,
      "outputs": [
        {
          "output_type": "execute_result",
          "data": {
            "text/plain": [
              "(23726, 2)"
            ]
          },
          "metadata": {},
          "execution_count": 26
        }
      ]
    },
    {
      "cell_type": "code",
      "source": [
        "X = df['text']\n",
        "Y = df['label']"
      ],
      "metadata": {
        "id": "jaRLdAFh_4Md"
      },
      "execution_count": 27,
      "outputs": []
    },
    {
      "cell_type": "code",
      "source": [
        "print(X)"
      ],
      "metadata": {
        "colab": {
          "base_uri": "https://localhost:8080/"
        },
        "id": "f7d4ArBRAZXO",
        "outputId": "4121b0bb-3b64-4e15-9abc-2b9ce285ec31"
      },
      "execution_count": 28,
      "outputs": [
        {
          "output_type": "stream",
          "name": "stdout",
          "text": [
            "0        viiiiiiagraaaa\\nonly for the ones that want to...\n",
            "1        got ice thought look az original message ice o...\n",
            "2        yo ur wom an ne eds an escapenumber in ch ma n...\n",
            "3        start increasing your odds of success & live s...\n",
            "4        author jra date escapenumber escapenumber esca...\n",
            "                               ...                        \n",
            "23721    easy erection long lasting effects no prescrip...\n",
            "23722    warning new online digial store lowest prices ...\n",
            "23723                           miss tana eta thanks griff\n",
            "23724    follow proposal first green tag offerings orig...\n",
            "23725    commit a snapshot of the generated prototype h...\n",
            "Name: text, Length: 23726, dtype: object\n"
          ]
        }
      ]
    },
    {
      "cell_type": "code",
      "source": [
        "print(Y)"
      ],
      "metadata": {
        "colab": {
          "base_uri": "https://localhost:8080/"
        },
        "id": "6vkNmK1EAbvY",
        "outputId": "d78fae1d-712f-46cf-844c-7216afdd7748"
      },
      "execution_count": 29,
      "outputs": [
        {
          "output_type": "stream",
          "name": "stdout",
          "text": [
            "0        1\n",
            "1        0\n",
            "2        1\n",
            "3        1\n",
            "4        0\n",
            "        ..\n",
            "23721    1\n",
            "23722    1\n",
            "23723    0\n",
            "23724    0\n",
            "23725    0\n",
            "Name: label, Length: 23726, dtype: int64\n"
          ]
        }
      ]
    },
    {
      "cell_type": "code",
      "source": [
        "#Train-Test Split\n",
        "X_train, X_test, Y_train, Y_test = train_test_split(X, Y, test_size = 0.2, random_state = 3)"
      ],
      "metadata": {
        "id": "ycH41mkXAil8"
      },
      "execution_count": 30,
      "outputs": []
    },
    {
      "cell_type": "code",
      "source": [
        "# Print shapes to check the split\n",
        "print(X.shape)\n",
        "print(X_train.shape)\n",
        "print(X_test.shape)"
      ],
      "metadata": {
        "colab": {
          "base_uri": "https://localhost:8080/"
        },
        "id": "QsyxErHjApi0",
        "outputId": "edb82ce6-9352-419d-b60a-e3192f29ee50"
      },
      "execution_count": 31,
      "outputs": [
        {
          "output_type": "stream",
          "name": "stdout",
          "text": [
            "(23726,)\n",
            "(18980,)\n",
            "(4746,)\n"
          ]
        }
      ]
    },
    {
      "cell_type": "code",
      "source": [
        "print(Y.shape)\n",
        "print(Y_train.shape)\n",
        "print(Y_test.shape)"
      ],
      "metadata": {
        "colab": {
          "base_uri": "https://localhost:8080/"
        },
        "id": "NJ_8pRPlAvkI",
        "outputId": "2f5c492f-4ccf-40bb-8fdb-d74585ce94e2"
      },
      "execution_count": 32,
      "outputs": [
        {
          "output_type": "stream",
          "name": "stdout",
          "text": [
            "(23726,)\n",
            "(18980,)\n",
            "(4746,)\n"
          ]
        }
      ]
    },
    {
      "cell_type": "code",
      "source": [
        "#Feature Extraction using TF-IDF\n",
        "feature_extraction = TfidfVectorizer(min_df = 1, stop_words = 'english', lowercase = True)\n",
        "\n",
        "X_train_features = feature_extraction.fit_transform(X_train)\n",
        "X_test_features = feature_extraction.transform(X_test)"
      ],
      "metadata": {
        "id": "Z6jaBg_UAyln"
      },
      "execution_count": 33,
      "outputs": []
    },
    {
      "cell_type": "code",
      "source": [
        "Y_train = pd.to_numeric(Y_train, errors='coerce').fillna(0).astype(int)\n",
        "Y_test = pd.to_numeric(Y_test, errors='coerce').fillna(0).astype(int)"
      ],
      "metadata": {
        "id": "vX3FlOcmA3U7"
      },
      "execution_count": 18,
      "outputs": []
    },
    {
      "cell_type": "code",
      "source": [
        "print(X_train)"
      ],
      "metadata": {
        "colab": {
          "base_uri": "https://localhost:8080/"
        },
        "id": "pZZe1GDgA77p",
        "outputId": "2969b7ba-90a2-4a35-8bfc-45090f5c2833"
      },
      "execution_count": 34,
      "outputs": [
        {
          "output_type": "stream",
          "name": "stdout",
          "text": [
            "7649     hello everybody this is probably a classic but...\n",
            "5287     company called glencorp interested acquiring e...\n",
            "22776     bitter after being snubbed for membership in ...\n",
            "22698    please see the attached invitation to the dlc ...\n",
            "16897    compare coursing dualities electrophoresis mar...\n",
            "                               ...                        \n",
            "6400     laura thanks for taking care of this keep us p...\n",
            "15288    hi vince ,\\nit was good to speak to you and gr...\n",
            "11513     ci ialis softabs is better than pfizer viiagr...\n",
            "1688     invited attend monitor live via webcast cafcp ...\n",
            "5994     march escapenumber escapenumber escapenumber e...\n",
            "Name: text, Length: 18980, dtype: object\n"
          ]
        }
      ]
    },
    {
      "cell_type": "code",
      "source": [
        "print(X_train_features)"
      ],
      "metadata": {
        "colab": {
          "base_uri": "https://localhost:8080/"
        },
        "id": "wd7hW6gYBCPC",
        "outputId": "c2533bb8-a5fd-4174-a047-1bf4415acc78"
      },
      "execution_count": 35,
      "outputs": [
        {
          "output_type": "stream",
          "name": "stdout",
          "text": [
            "<Compressed Sparse Row sparse matrix of dtype 'float64'\n",
            "\twith 1901434 stored elements and shape (18980, 193417)>\n",
            "  Coords\tValues\n",
            "  (0, 76184)\t0.09518876444893781\n",
            "  (0, 61370)\t0.13283346472729327\n",
            "  (0, 123679)\t0.09678799517673052\n",
            "  (0, 37381)\t0.1391547448146323\n",
            "  (0, 18997)\t0.10157014938384708\n",
            "  (0, 98532)\t0.2413953284117349\n",
            "  (0, 95624)\t0.19618544698740417\n",
            "  (0, 72002)\t0.13101961057527178\n",
            "  (0, 137651)\t0.09824250813664337\n",
            "  (0, 131721)\t0.1452448966199357\n",
            "  (0, 20502)\t0.12967011453144067\n",
            "  (0, 139076)\t0.11942538557044138\n",
            "  (0, 116559)\t0.27262655874727176\n",
            "  (0, 108782)\t0.11259083731672011\n",
            "  (0, 120724)\t0.3895028813536223\n",
            "  (0, 167068)\t0.09268995922480351\n",
            "  (0, 50655)\t0.10202431301486083\n",
            "  (0, 135480)\t0.07866761503313327\n",
            "  (0, 76212)\t0.19572693730274526\n",
            "  (0, 20695)\t0.13653639566570772\n",
            "  (0, 117144)\t0.11525592004238473\n",
            "  (0, 103517)\t0.11542520998451998\n",
            "  (0, 86874)\t0.19081760810552806\n",
            "  (0, 78876)\t0.08791304927373596\n",
            "  (0, 87139)\t0.140190828616697\n",
            "  :\t:\n",
            "  (18979, 122597)\t0.0651851183815137\n",
            "  (18979, 120983)\t0.20726521050770969\n",
            "  (18979, 21567)\t0.1700177611935906\n",
            "  (18979, 14246)\t0.06301740001276111\n",
            "  (18979, 121125)\t0.0699185750675358\n",
            "  (18979, 73254)\t0.06970445302945165\n",
            "  (18979, 115955)\t0.0690884035025699\n",
            "  (18979, 125355)\t0.06392314151189654\n",
            "  (18979, 23003)\t0.05835144386344304\n",
            "  (18979, 160985)\t0.14364155321427263\n",
            "  (18979, 129558)\t0.07353176777830549\n",
            "  (18979, 154344)\t0.06259366410557536\n",
            "  (18979, 131469)\t0.06491960155236162\n",
            "  (18979, 117086)\t0.08250026077764613\n",
            "  (18979, 75534)\t0.1545246496143314\n",
            "  (18979, 56164)\t0.07292817140004894\n",
            "  (18979, 84999)\t0.07013740345930146\n",
            "  (18979, 129695)\t0.08176242023940135\n",
            "  (18979, 95802)\t0.26599078588252817\n",
            "  (18979, 133449)\t0.09019836432467407\n",
            "  (18979, 32790)\t0.08329718926989939\n",
            "  (18979, 51940)\t0.48549769689724376\n",
            "  (18979, 130428)\t0.10113646799740421\n",
            "  (18979, 20615)\t0.10113646799740421\n",
            "  (18979, 112716)\t0.10113646799740421\n"
          ]
        }
      ]
    },
    {
      "cell_type": "code",
      "source": [
        "#Train Linear Regression Model\n",
        "model = LinearRegression()\n",
        "model.fit(X_train_features, Y_train)"
      ],
      "metadata": {
        "colab": {
          "base_uri": "https://localhost:8080/",
          "height": 80
        },
        "id": "5-MahQCMBH4E",
        "outputId": "b4da2c4e-cd3d-48ec-aaf8-e765156ff6ee"
      },
      "execution_count": 48,
      "outputs": [
        {
          "output_type": "execute_result",
          "data": {
            "text/plain": [
              "LinearRegression()"
            ],
            "text/html": [
              "<style>#sk-container-id-2 {\n",
              "  /* Definition of color scheme common for light and dark mode */\n",
              "  --sklearn-color-text: #000;\n",
              "  --sklearn-color-text-muted: #666;\n",
              "  --sklearn-color-line: gray;\n",
              "  /* Definition of color scheme for unfitted estimators */\n",
              "  --sklearn-color-unfitted-level-0: #fff5e6;\n",
              "  --sklearn-color-unfitted-level-1: #f6e4d2;\n",
              "  --sklearn-color-unfitted-level-2: #ffe0b3;\n",
              "  --sklearn-color-unfitted-level-3: chocolate;\n",
              "  /* Definition of color scheme for fitted estimators */\n",
              "  --sklearn-color-fitted-level-0: #f0f8ff;\n",
              "  --sklearn-color-fitted-level-1: #d4ebff;\n",
              "  --sklearn-color-fitted-level-2: #b3dbfd;\n",
              "  --sklearn-color-fitted-level-3: cornflowerblue;\n",
              "\n",
              "  /* Specific color for light theme */\n",
              "  --sklearn-color-text-on-default-background: var(--sg-text-color, var(--theme-code-foreground, var(--jp-content-font-color1, black)));\n",
              "  --sklearn-color-background: var(--sg-background-color, var(--theme-background, var(--jp-layout-color0, white)));\n",
              "  --sklearn-color-border-box: var(--sg-text-color, var(--theme-code-foreground, var(--jp-content-font-color1, black)));\n",
              "  --sklearn-color-icon: #696969;\n",
              "\n",
              "  @media (prefers-color-scheme: dark) {\n",
              "    /* Redefinition of color scheme for dark theme */\n",
              "    --sklearn-color-text-on-default-background: var(--sg-text-color, var(--theme-code-foreground, var(--jp-content-font-color1, white)));\n",
              "    --sklearn-color-background: var(--sg-background-color, var(--theme-background, var(--jp-layout-color0, #111)));\n",
              "    --sklearn-color-border-box: var(--sg-text-color, var(--theme-code-foreground, var(--jp-content-font-color1, white)));\n",
              "    --sklearn-color-icon: #878787;\n",
              "  }\n",
              "}\n",
              "\n",
              "#sk-container-id-2 {\n",
              "  color: var(--sklearn-color-text);\n",
              "}\n",
              "\n",
              "#sk-container-id-2 pre {\n",
              "  padding: 0;\n",
              "}\n",
              "\n",
              "#sk-container-id-2 input.sk-hidden--visually {\n",
              "  border: 0;\n",
              "  clip: rect(1px 1px 1px 1px);\n",
              "  clip: rect(1px, 1px, 1px, 1px);\n",
              "  height: 1px;\n",
              "  margin: -1px;\n",
              "  overflow: hidden;\n",
              "  padding: 0;\n",
              "  position: absolute;\n",
              "  width: 1px;\n",
              "}\n",
              "\n",
              "#sk-container-id-2 div.sk-dashed-wrapped {\n",
              "  border: 1px dashed var(--sklearn-color-line);\n",
              "  margin: 0 0.4em 0.5em 0.4em;\n",
              "  box-sizing: border-box;\n",
              "  padding-bottom: 0.4em;\n",
              "  background-color: var(--sklearn-color-background);\n",
              "}\n",
              "\n",
              "#sk-container-id-2 div.sk-container {\n",
              "  /* jupyter's `normalize.less` sets `[hidden] { display: none; }`\n",
              "     but bootstrap.min.css set `[hidden] { display: none !important; }`\n",
              "     so we also need the `!important` here to be able to override the\n",
              "     default hidden behavior on the sphinx rendered scikit-learn.org.\n",
              "     See: https://github.com/scikit-learn/scikit-learn/issues/21755 */\n",
              "  display: inline-block !important;\n",
              "  position: relative;\n",
              "}\n",
              "\n",
              "#sk-container-id-2 div.sk-text-repr-fallback {\n",
              "  display: none;\n",
              "}\n",
              "\n",
              "div.sk-parallel-item,\n",
              "div.sk-serial,\n",
              "div.sk-item {\n",
              "  /* draw centered vertical line to link estimators */\n",
              "  background-image: linear-gradient(var(--sklearn-color-text-on-default-background), var(--sklearn-color-text-on-default-background));\n",
              "  background-size: 2px 100%;\n",
              "  background-repeat: no-repeat;\n",
              "  background-position: center center;\n",
              "}\n",
              "\n",
              "/* Parallel-specific style estimator block */\n",
              "\n",
              "#sk-container-id-2 div.sk-parallel-item::after {\n",
              "  content: \"\";\n",
              "  width: 100%;\n",
              "  border-bottom: 2px solid var(--sklearn-color-text-on-default-background);\n",
              "  flex-grow: 1;\n",
              "}\n",
              "\n",
              "#sk-container-id-2 div.sk-parallel {\n",
              "  display: flex;\n",
              "  align-items: stretch;\n",
              "  justify-content: center;\n",
              "  background-color: var(--sklearn-color-background);\n",
              "  position: relative;\n",
              "}\n",
              "\n",
              "#sk-container-id-2 div.sk-parallel-item {\n",
              "  display: flex;\n",
              "  flex-direction: column;\n",
              "}\n",
              "\n",
              "#sk-container-id-2 div.sk-parallel-item:first-child::after {\n",
              "  align-self: flex-end;\n",
              "  width: 50%;\n",
              "}\n",
              "\n",
              "#sk-container-id-2 div.sk-parallel-item:last-child::after {\n",
              "  align-self: flex-start;\n",
              "  width: 50%;\n",
              "}\n",
              "\n",
              "#sk-container-id-2 div.sk-parallel-item:only-child::after {\n",
              "  width: 0;\n",
              "}\n",
              "\n",
              "/* Serial-specific style estimator block */\n",
              "\n",
              "#sk-container-id-2 div.sk-serial {\n",
              "  display: flex;\n",
              "  flex-direction: column;\n",
              "  align-items: center;\n",
              "  background-color: var(--sklearn-color-background);\n",
              "  padding-right: 1em;\n",
              "  padding-left: 1em;\n",
              "}\n",
              "\n",
              "\n",
              "/* Toggleable style: style used for estimator/Pipeline/ColumnTransformer box that is\n",
              "clickable and can be expanded/collapsed.\n",
              "- Pipeline and ColumnTransformer use this feature and define the default style\n",
              "- Estimators will overwrite some part of the style using the `sk-estimator` class\n",
              "*/\n",
              "\n",
              "/* Pipeline and ColumnTransformer style (default) */\n",
              "\n",
              "#sk-container-id-2 div.sk-toggleable {\n",
              "  /* Default theme specific background. It is overwritten whether we have a\n",
              "  specific estimator or a Pipeline/ColumnTransformer */\n",
              "  background-color: var(--sklearn-color-background);\n",
              "}\n",
              "\n",
              "/* Toggleable label */\n",
              "#sk-container-id-2 label.sk-toggleable__label {\n",
              "  cursor: pointer;\n",
              "  display: flex;\n",
              "  width: 100%;\n",
              "  margin-bottom: 0;\n",
              "  padding: 0.5em;\n",
              "  box-sizing: border-box;\n",
              "  text-align: center;\n",
              "  align-items: start;\n",
              "  justify-content: space-between;\n",
              "  gap: 0.5em;\n",
              "}\n",
              "\n",
              "#sk-container-id-2 label.sk-toggleable__label .caption {\n",
              "  font-size: 0.6rem;\n",
              "  font-weight: lighter;\n",
              "  color: var(--sklearn-color-text-muted);\n",
              "}\n",
              "\n",
              "#sk-container-id-2 label.sk-toggleable__label-arrow:before {\n",
              "  /* Arrow on the left of the label */\n",
              "  content: \"▸\";\n",
              "  float: left;\n",
              "  margin-right: 0.25em;\n",
              "  color: var(--sklearn-color-icon);\n",
              "}\n",
              "\n",
              "#sk-container-id-2 label.sk-toggleable__label-arrow:hover:before {\n",
              "  color: var(--sklearn-color-text);\n",
              "}\n",
              "\n",
              "/* Toggleable content - dropdown */\n",
              "\n",
              "#sk-container-id-2 div.sk-toggleable__content {\n",
              "  max-height: 0;\n",
              "  max-width: 0;\n",
              "  overflow: hidden;\n",
              "  text-align: left;\n",
              "  /* unfitted */\n",
              "  background-color: var(--sklearn-color-unfitted-level-0);\n",
              "}\n",
              "\n",
              "#sk-container-id-2 div.sk-toggleable__content.fitted {\n",
              "  /* fitted */\n",
              "  background-color: var(--sklearn-color-fitted-level-0);\n",
              "}\n",
              "\n",
              "#sk-container-id-2 div.sk-toggleable__content pre {\n",
              "  margin: 0.2em;\n",
              "  border-radius: 0.25em;\n",
              "  color: var(--sklearn-color-text);\n",
              "  /* unfitted */\n",
              "  background-color: var(--sklearn-color-unfitted-level-0);\n",
              "}\n",
              "\n",
              "#sk-container-id-2 div.sk-toggleable__content.fitted pre {\n",
              "  /* unfitted */\n",
              "  background-color: var(--sklearn-color-fitted-level-0);\n",
              "}\n",
              "\n",
              "#sk-container-id-2 input.sk-toggleable__control:checked~div.sk-toggleable__content {\n",
              "  /* Expand drop-down */\n",
              "  max-height: 200px;\n",
              "  max-width: 100%;\n",
              "  overflow: auto;\n",
              "}\n",
              "\n",
              "#sk-container-id-2 input.sk-toggleable__control:checked~label.sk-toggleable__label-arrow:before {\n",
              "  content: \"▾\";\n",
              "}\n",
              "\n",
              "/* Pipeline/ColumnTransformer-specific style */\n",
              "\n",
              "#sk-container-id-2 div.sk-label input.sk-toggleable__control:checked~label.sk-toggleable__label {\n",
              "  color: var(--sklearn-color-text);\n",
              "  background-color: var(--sklearn-color-unfitted-level-2);\n",
              "}\n",
              "\n",
              "#sk-container-id-2 div.sk-label.fitted input.sk-toggleable__control:checked~label.sk-toggleable__label {\n",
              "  background-color: var(--sklearn-color-fitted-level-2);\n",
              "}\n",
              "\n",
              "/* Estimator-specific style */\n",
              "\n",
              "/* Colorize estimator box */\n",
              "#sk-container-id-2 div.sk-estimator input.sk-toggleable__control:checked~label.sk-toggleable__label {\n",
              "  /* unfitted */\n",
              "  background-color: var(--sklearn-color-unfitted-level-2);\n",
              "}\n",
              "\n",
              "#sk-container-id-2 div.sk-estimator.fitted input.sk-toggleable__control:checked~label.sk-toggleable__label {\n",
              "  /* fitted */\n",
              "  background-color: var(--sklearn-color-fitted-level-2);\n",
              "}\n",
              "\n",
              "#sk-container-id-2 div.sk-label label.sk-toggleable__label,\n",
              "#sk-container-id-2 div.sk-label label {\n",
              "  /* The background is the default theme color */\n",
              "  color: var(--sklearn-color-text-on-default-background);\n",
              "}\n",
              "\n",
              "/* On hover, darken the color of the background */\n",
              "#sk-container-id-2 div.sk-label:hover label.sk-toggleable__label {\n",
              "  color: var(--sklearn-color-text);\n",
              "  background-color: var(--sklearn-color-unfitted-level-2);\n",
              "}\n",
              "\n",
              "/* Label box, darken color on hover, fitted */\n",
              "#sk-container-id-2 div.sk-label.fitted:hover label.sk-toggleable__label.fitted {\n",
              "  color: var(--sklearn-color-text);\n",
              "  background-color: var(--sklearn-color-fitted-level-2);\n",
              "}\n",
              "\n",
              "/* Estimator label */\n",
              "\n",
              "#sk-container-id-2 div.sk-label label {\n",
              "  font-family: monospace;\n",
              "  font-weight: bold;\n",
              "  display: inline-block;\n",
              "  line-height: 1.2em;\n",
              "}\n",
              "\n",
              "#sk-container-id-2 div.sk-label-container {\n",
              "  text-align: center;\n",
              "}\n",
              "\n",
              "/* Estimator-specific */\n",
              "#sk-container-id-2 div.sk-estimator {\n",
              "  font-family: monospace;\n",
              "  border: 1px dotted var(--sklearn-color-border-box);\n",
              "  border-radius: 0.25em;\n",
              "  box-sizing: border-box;\n",
              "  margin-bottom: 0.5em;\n",
              "  /* unfitted */\n",
              "  background-color: var(--sklearn-color-unfitted-level-0);\n",
              "}\n",
              "\n",
              "#sk-container-id-2 div.sk-estimator.fitted {\n",
              "  /* fitted */\n",
              "  background-color: var(--sklearn-color-fitted-level-0);\n",
              "}\n",
              "\n",
              "/* on hover */\n",
              "#sk-container-id-2 div.sk-estimator:hover {\n",
              "  /* unfitted */\n",
              "  background-color: var(--sklearn-color-unfitted-level-2);\n",
              "}\n",
              "\n",
              "#sk-container-id-2 div.sk-estimator.fitted:hover {\n",
              "  /* fitted */\n",
              "  background-color: var(--sklearn-color-fitted-level-2);\n",
              "}\n",
              "\n",
              "/* Specification for estimator info (e.g. \"i\" and \"?\") */\n",
              "\n",
              "/* Common style for \"i\" and \"?\" */\n",
              "\n",
              ".sk-estimator-doc-link,\n",
              "a:link.sk-estimator-doc-link,\n",
              "a:visited.sk-estimator-doc-link {\n",
              "  float: right;\n",
              "  font-size: smaller;\n",
              "  line-height: 1em;\n",
              "  font-family: monospace;\n",
              "  background-color: var(--sklearn-color-background);\n",
              "  border-radius: 1em;\n",
              "  height: 1em;\n",
              "  width: 1em;\n",
              "  text-decoration: none !important;\n",
              "  margin-left: 0.5em;\n",
              "  text-align: center;\n",
              "  /* unfitted */\n",
              "  border: var(--sklearn-color-unfitted-level-1) 1pt solid;\n",
              "  color: var(--sklearn-color-unfitted-level-1);\n",
              "}\n",
              "\n",
              ".sk-estimator-doc-link.fitted,\n",
              "a:link.sk-estimator-doc-link.fitted,\n",
              "a:visited.sk-estimator-doc-link.fitted {\n",
              "  /* fitted */\n",
              "  border: var(--sklearn-color-fitted-level-1) 1pt solid;\n",
              "  color: var(--sklearn-color-fitted-level-1);\n",
              "}\n",
              "\n",
              "/* On hover */\n",
              "div.sk-estimator:hover .sk-estimator-doc-link:hover,\n",
              ".sk-estimator-doc-link:hover,\n",
              "div.sk-label-container:hover .sk-estimator-doc-link:hover,\n",
              ".sk-estimator-doc-link:hover {\n",
              "  /* unfitted */\n",
              "  background-color: var(--sklearn-color-unfitted-level-3);\n",
              "  color: var(--sklearn-color-background);\n",
              "  text-decoration: none;\n",
              "}\n",
              "\n",
              "div.sk-estimator.fitted:hover .sk-estimator-doc-link.fitted:hover,\n",
              ".sk-estimator-doc-link.fitted:hover,\n",
              "div.sk-label-container:hover .sk-estimator-doc-link.fitted:hover,\n",
              ".sk-estimator-doc-link.fitted:hover {\n",
              "  /* fitted */\n",
              "  background-color: var(--sklearn-color-fitted-level-3);\n",
              "  color: var(--sklearn-color-background);\n",
              "  text-decoration: none;\n",
              "}\n",
              "\n",
              "/* Span, style for the box shown on hovering the info icon */\n",
              ".sk-estimator-doc-link span {\n",
              "  display: none;\n",
              "  z-index: 9999;\n",
              "  position: relative;\n",
              "  font-weight: normal;\n",
              "  right: .2ex;\n",
              "  padding: .5ex;\n",
              "  margin: .5ex;\n",
              "  width: min-content;\n",
              "  min-width: 20ex;\n",
              "  max-width: 50ex;\n",
              "  color: var(--sklearn-color-text);\n",
              "  box-shadow: 2pt 2pt 4pt #999;\n",
              "  /* unfitted */\n",
              "  background: var(--sklearn-color-unfitted-level-0);\n",
              "  border: .5pt solid var(--sklearn-color-unfitted-level-3);\n",
              "}\n",
              "\n",
              ".sk-estimator-doc-link.fitted span {\n",
              "  /* fitted */\n",
              "  background: var(--sklearn-color-fitted-level-0);\n",
              "  border: var(--sklearn-color-fitted-level-3);\n",
              "}\n",
              "\n",
              ".sk-estimator-doc-link:hover span {\n",
              "  display: block;\n",
              "}\n",
              "\n",
              "/* \"?\"-specific style due to the `<a>` HTML tag */\n",
              "\n",
              "#sk-container-id-2 a.estimator_doc_link {\n",
              "  float: right;\n",
              "  font-size: 1rem;\n",
              "  line-height: 1em;\n",
              "  font-family: monospace;\n",
              "  background-color: var(--sklearn-color-background);\n",
              "  border-radius: 1rem;\n",
              "  height: 1rem;\n",
              "  width: 1rem;\n",
              "  text-decoration: none;\n",
              "  /* unfitted */\n",
              "  color: var(--sklearn-color-unfitted-level-1);\n",
              "  border: var(--sklearn-color-unfitted-level-1) 1pt solid;\n",
              "}\n",
              "\n",
              "#sk-container-id-2 a.estimator_doc_link.fitted {\n",
              "  /* fitted */\n",
              "  border: var(--sklearn-color-fitted-level-1) 1pt solid;\n",
              "  color: var(--sklearn-color-fitted-level-1);\n",
              "}\n",
              "\n",
              "/* On hover */\n",
              "#sk-container-id-2 a.estimator_doc_link:hover {\n",
              "  /* unfitted */\n",
              "  background-color: var(--sklearn-color-unfitted-level-3);\n",
              "  color: var(--sklearn-color-background);\n",
              "  text-decoration: none;\n",
              "}\n",
              "\n",
              "#sk-container-id-2 a.estimator_doc_link.fitted:hover {\n",
              "  /* fitted */\n",
              "  background-color: var(--sklearn-color-fitted-level-3);\n",
              "}\n",
              "</style><div id=\"sk-container-id-2\" class=\"sk-top-container\"><div class=\"sk-text-repr-fallback\"><pre>LinearRegression()</pre><b>In a Jupyter environment, please rerun this cell to show the HTML representation or trust the notebook. <br />On GitHub, the HTML representation is unable to render, please try loading this page with nbviewer.org.</b></div><div class=\"sk-container\" hidden><div class=\"sk-item\"><div class=\"sk-estimator fitted sk-toggleable\"><input class=\"sk-toggleable__control sk-hidden--visually\" id=\"sk-estimator-id-2\" type=\"checkbox\" checked><label for=\"sk-estimator-id-2\" class=\"sk-toggleable__label fitted sk-toggleable__label-arrow\"><div><div>LinearRegression</div></div><div><a class=\"sk-estimator-doc-link fitted\" rel=\"noreferrer\" target=\"_blank\" href=\"https://scikit-learn.org/1.6/modules/generated/sklearn.linear_model.LinearRegression.html\">?<span>Documentation for LinearRegression</span></a><span class=\"sk-estimator-doc-link fitted\">i<span>Fitted</span></span></div></label><div class=\"sk-toggleable__content fitted\"><pre>LinearRegression()</pre></div> </div></div></div></div>"
            ]
          },
          "metadata": {},
          "execution_count": 48
        }
      ]
    },
    {
      "cell_type": "code",
      "source": [
        "#Model Evaluation\n",
        "Y_pred_linear = np.round(model.predict(X_test_features)) # Use 'model' and 'X_test_features'\n",
        "print(\"Linear Regression MSE:\", mean_squared_error(Y_test, model.predict(X_test_features))) # Use 'model' and 'X_test_features'\n",
        "print(\"Linear Regression Accuracy:\", accuracy_score(Y_test, Y_pred_linear))\n",
        "print(classification_report(Y_test, Y_pred_linear))"
      ],
      "metadata": {
        "colab": {
          "base_uri": "https://localhost:8080/"
        },
        "id": "SyhdYC6LPGW2",
        "outputId": "fffb88ab-9f30-4556-fc42-b3111e22faf1"
      },
      "execution_count": 72,
      "outputs": [
        {
          "output_type": "stream",
          "name": "stdout",
          "text": [
            "Linear Regression MSE: 0.18128741333288279\n",
            "Linear Regression Accuracy: 0.8209018120522545\n",
            "              precision    recall  f1-score   support\n",
            "\n",
            "        -7.0       0.00      0.00      0.00         0\n",
            "        -2.0       0.00      0.00      0.00         0\n",
            "        -1.0       0.00      0.00      0.00         0\n",
            "         0.0       0.92      0.77      0.84      2494\n",
            "         1.0       0.83      0.88      0.86      2252\n",
            "         2.0       0.00      0.00      0.00         0\n",
            "         3.0       0.00      0.00      0.00         0\n",
            "         4.0       0.00      0.00      0.00         0\n",
            "         5.0       0.00      0.00      0.00         0\n",
            "\n",
            "    accuracy                           0.82      4746\n",
            "   macro avg       0.19      0.18      0.19      4746\n",
            "weighted avg       0.88      0.82      0.85      4746\n",
            "\n"
          ]
        },
        {
          "output_type": "stream",
          "name": "stderr",
          "text": [
            "/usr/local/lib/python3.11/dist-packages/sklearn/metrics/_classification.py:1565: UndefinedMetricWarning: Recall is ill-defined and being set to 0.0 in labels with no true samples. Use `zero_division` parameter to control this behavior.\n",
            "  _warn_prf(average, modifier, f\"{metric.capitalize()} is\", len(result))\n",
            "/usr/local/lib/python3.11/dist-packages/sklearn/metrics/_classification.py:1565: UndefinedMetricWarning: Recall is ill-defined and being set to 0.0 in labels with no true samples. Use `zero_division` parameter to control this behavior.\n",
            "  _warn_prf(average, modifier, f\"{metric.capitalize()} is\", len(result))\n",
            "/usr/local/lib/python3.11/dist-packages/sklearn/metrics/_classification.py:1565: UndefinedMetricWarning: Recall is ill-defined and being set to 0.0 in labels with no true samples. Use `zero_division` parameter to control this behavior.\n",
            "  _warn_prf(average, modifier, f\"{metric.capitalize()} is\", len(result))\n"
          ]
        }
      ]
    },
    {
      "cell_type": "code",
      "source": [
        "#Model Evaluation\n",
        "prediction_on_training_data = model.predict(X_train_features)\n",
        "# Convert predictions to binary using a threshold (e.g., 0.5)\n",
        "prediction_on_training_data_binary = (prediction_on_training_data >= 0.5).astype(int)\n",
        "accuracy_on_training_data = accuracy_score(Y_train, prediction_on_training_data_binary)"
      ],
      "metadata": {
        "id": "d6fwLvjQC_Rd"
      },
      "execution_count": 73,
      "outputs": []
    },
    {
      "cell_type": "code",
      "source": [
        "print('Acc on training data:', accuracy_on_training_data)"
      ],
      "metadata": {
        "colab": {
          "base_uri": "https://localhost:8080/"
        },
        "id": "-X_dZDlKDgD4",
        "outputId": "c23bf95b-b608-4b03-87f9-daac9ebcb14a"
      },
      "execution_count": 74,
      "outputs": [
        {
          "output_type": "stream",
          "name": "stdout",
          "text": [
            "Acc on training data: 1.0\n"
          ]
        }
      ]
    },
    {
      "cell_type": "code",
      "source": [
        "#Unit Testing Class\n",
        "class TestSpamClassifier(unittest.TestCase):\n",
        "    def setUp(self):\n",
        "        self.model = model\n",
        "        self.sample_spam = ['Congratulation! You have won a lottery of $1,000, 000']\n",
        "        self.sample_ham = [\"Hello, let's meet for coffee tomorrow.\"]\n",
        "\n",
        "    def test_spam_prediction(self):\n",
        "        spam_features = feature_extraction.transform(self.sample_spam)\n",
        "        prediction = self.model.predict(spam_features)\n",
        "        self.assertEqual(prediction[0], 1, \"Spam prediction is incorrect\")\n",
        "\n",
        "    def test_ham_prediction(self):\n",
        "        ham_features = feature_extraction.transform(self.sample_ham)\n",
        "        prediction = self.model.predict(ham_features)\n",
        "        self.assertEqual(prediction[0], 0, \"Ham prediction is incorrect\")\n",
        "\n",
        "if __name__ == '__main__':\n",
        "    unittest.main(argv=[''], verbosity=2, exit=False)\n"
      ],
      "metadata": {
        "colab": {
          "base_uri": "https://localhost:8080/"
        },
        "id": "Kc_bS5JnRJFn",
        "outputId": "9fb90fed-0538-4d7f-aac7-c3987d73e97b"
      },
      "execution_count": 75,
      "outputs": [
        {
          "output_type": "stream",
          "name": "stderr",
          "text": [
            "test_ham_prediction (__main__.TestLinearRegression.test_ham_prediction) ... FAIL\n",
            "test_spam_prediction (__main__.TestLinearRegression.test_spam_prediction) ... FAIL\n",
            "test_ham_prediction (__main__.TestSpamClassifier.test_ham_prediction) ... FAIL\n",
            "test_spam_prediction (__main__.TestSpamClassifier.test_spam_prediction) ... FAIL\n",
            "\n",
            "======================================================================\n",
            "FAIL: test_ham_prediction (__main__.TestLinearRegression.test_ham_prediction)\n",
            "----------------------------------------------------------------------\n",
            "Traceback (most recent call last):\n",
            "  File \"<ipython-input-67-521f39e618cf>\", line 16, in test_ham_prediction\n",
            "    self.assertEqual(prediction[0], 0, \"Ham prediction is incorrect\")\n",
            "AssertionError: np.float64(0.42196685007543133) != 0 : Ham prediction is incorrect\n",
            "\n",
            "======================================================================\n",
            "FAIL: test_spam_prediction (__main__.TestLinearRegression.test_spam_prediction)\n",
            "----------------------------------------------------------------------\n",
            "Traceback (most recent call last):\n",
            "  File \"<ipython-input-67-521f39e618cf>\", line 11, in test_spam_prediction\n",
            "    self.assertEqual(prediction[0], 1, \"Spam prediction is incorrect\")\n",
            "AssertionError: np.float64(1.0611785260043471) != 1 : Spam prediction is incorrect\n",
            "\n",
            "======================================================================\n",
            "FAIL: test_ham_prediction (__main__.TestSpamClassifier.test_ham_prediction)\n",
            "----------------------------------------------------------------------\n",
            "Traceback (most recent call last):\n",
            "  File \"<ipython-input-75-e2974b162a61>\", line 16, in test_ham_prediction\n",
            "    self.assertEqual(prediction[0], 0, \"Ham prediction is incorrect\")\n",
            "AssertionError: np.float64(0.42196685007543133) != 0 : Ham prediction is incorrect\n",
            "\n",
            "======================================================================\n",
            "FAIL: test_spam_prediction (__main__.TestSpamClassifier.test_spam_prediction)\n",
            "----------------------------------------------------------------------\n",
            "Traceback (most recent call last):\n",
            "  File \"<ipython-input-75-e2974b162a61>\", line 11, in test_spam_prediction\n",
            "    self.assertEqual(prediction[0], 1, \"Spam prediction is incorrect\")\n",
            "AssertionError: np.float64(1.0611785260043471) != 1 : Spam prediction is incorrect\n",
            "\n",
            "----------------------------------------------------------------------\n",
            "Ran 4 tests in 0.017s\n",
            "\n",
            "FAILED (failures=4)\n"
          ]
        }
      ]
    },
    {
      "cell_type": "code",
      "source": [
        "import matplotlib.pyplot as plt\n",
        "import seaborn as sns\n",
        "from sklearn.metrics import confusion_matrix\n",
        "\n",
        "# Confusion Matrix for Linear Regression\n",
        "cm_lin = confusion_matrix(Y_test, Y_pred_linear)\n",
        "plt.figure(figsize=(5,4))\n",
        "sns.heatmap(cm_lin, annot=True, fmt='d', cmap='Oranges')\n",
        "plt.title(\"Confusion Matrix: Linear Regression\")\n",
        "plt.xlabel(\"Predicted\")\n",
        "plt.ylabel(\"Actual\")\n",
        "plt.show()"
      ],
      "metadata": {
        "colab": {
          "base_uri": "https://localhost:8080/",
          "height": 410
        },
        "id": "9G4B-ya_Ihtk",
        "outputId": "10ca9961-3ce8-4608-94f6-3ef43222582d"
      },
      "execution_count": 63,
      "outputs": [
        {
          "output_type": "display_data",
          "data": {
            "text/plain": [
              "<Figure size 500x400 with 2 Axes>"
            ],
            "image/png": "[encoded data removed]"
          },
          "metadata": {}
        }
      ]
    }
  ]
}