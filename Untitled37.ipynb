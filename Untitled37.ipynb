{
  "nbformat": 4,
  "nbformat_minor": 0,
  "metadata": {
    "colab": {
      "provenance": [],
      "authorship_tag": "ABX9TyNWwhMLMJUMqiWjrWGYqcHe",
      "include_colab_link": true
    },
    "kernelspec": {
      "name": "python3",
      "display_name": "Python 3"
    },
    "language_info": {
      "name": "python"
    }
  },
  "cells": [
    {
      "cell_type": "markdown",
      "metadata": {
        "id": "view-in-github",
        "colab_type": "text"
      },
      "source": [
        "<a href=\"https://colab.research.google.com/github/mercy09/ijeoma/blob/main/Untitled37.ipynb\" target=\"_parent\"><img src=\"https://colab.research.google.com/assets/colab-badge.svg\" alt=\"Open In Colab\"/></a>"
      ]
    },
    {
      "cell_type": "code",
      "execution_count": 1,
      "metadata": {
        "colab": {
          "base_uri": "https://localhost:8080/"
        },
        "id": "7Xa1VpPmDJcA",
        "outputId": "36625b90-9e0d-4f83-86ef-bdc10941a6b3"
      },
      "outputs": [
        {
          "output_type": "stream",
          "name": "stdout",
          "text": [
            "  CustomerID  Gender     Race   Age                 Q8                 Q9  \\\n",
            "0      C0001  Female    White  50.0  Strongly disagree  Strongly disagree   \n",
            "1      C0002  Female  African  62.0                NaN     Strongly Agree   \n",
            "2      C0003  Female  African  45.0              Agree           Disagree   \n",
            "3      C0004    Male  African  23.0              Agree              Agree   \n",
            "4      C0005    Male    White   NaN     Strongly Agree     Strongly Agree   \n",
            "5      C0006    Male    Asian  18.0     Strongly Agree     Strongly Agree   \n",
            "6      C0007    Male  African  25.0           Disagree            Neutral   \n",
            "7      C0008    Male    White   NaN                NaN            Neutral   \n",
            "8      C0009    Male  African   NaN              Agree              Agree   \n",
            "9      C0010    Male  African  35.0              Agree              Agree   \n",
            "\n",
            "                 Q10                Q11             Q12  \n",
            "0  Strongly disagree  Strongly disagree        Disagree  \n",
            "1              Agree     Strongly Agree  Strongly Agree  \n",
            "2                NaN              Agree         Neutral  \n",
            "3              Agree              Agree  Strongly Agree  \n",
            "4              Agree     Strongly Agree  Strongly Agree  \n",
            "5     Strongly Agree              Agree  Strongly Agree  \n",
            "6            Neutral            Neutral           Agree  \n",
            "7           Disagree           Disagree           Agree  \n",
            "8     Strongly Agree              Agree  Strongly Agree  \n",
            "9              Agree            Neutral             NaN  \n"
          ]
        }
      ],
      "source": [
        "import pandas as pd\n",
        "import numpy as np\n",
        "\n",
        "# Define Dataset 1\n",
        "df1 = pd.DataFrame({\n",
        "    'CustomerID': ['C0001', 'C0002', 'C0003', 'C0004', 'C0005', 'C0006', 'C0007', 'C0008', 'C0009', 'C0010', 'C0001'],\n",
        "    'Gender': ['Female', 'Female', 'F', 'Male', 'Male', 'M', 'Male', 'Male', 'Male', 'Male', 'Female'],\n",
        "    'Race': ['White', 'African', 'African', 'African', 'White', 'Asian', 'African', 'White', 'African', 'African', 'White'],\n",
        "    'Age': [50, 62, 45, 23, 400, 18, 25, 400, '-', 35, 50]\n",
        "})\n",
        "\n",
        "# Define Dataset 2\n",
        "df2 = pd.DataFrame({\n",
        "    'CustID': ['C0001', 'C0002', 'C0003', 'C0004', 'C0005', 'C0006', 'C0007', 'C0008', 'C0009', 'C0010', 'C0001'],\n",
        "    'Q8': ['Strongly disagree', 'African', 'Agree', 'Agree', 'Strongly Agree', 'Strongly Agree', 'Disagree', '', 'Agree', 'Agree', 'Strongly disagree'],\n",
        "    'Q9': ['Strongly disagree', 'Strongly Agree', 'Disagree', 'Agree', 'Strongly Agree', 'Strongly Agree', 'Neutral', 'Neutral', 'Agree', 'Agree', 'Strongly disagree'],\n",
        "    'Q10': ['Strongly disagree', 'Agree', '', 'Agree', 'Agree', 'Strongly Agree', 'Neutral', 'Disagree', 'Strongly Agree', 'Agree', 'Strongly disagree'],\n",
        "    'Q11': ['Strongly disagree', 'Strongly Agree', 'Agree', 'Agree', 'Strongly Agree', 'Agree', 'Neutral', 'Disagree', 'Agree', 'Neutral', 'Strongly disagree'],\n",
        "    'Q12': ['Disagree', 'Strongly Agree', 'Neutral', 'Strongly Agree', 'Strongly Agree', 'Strongly Agree', 'Agree', 'Agree', 'Strongly Agree', 'Female', 'Disagree']\n",
        "})\n",
        "\n",
        "# Standardize Gender Values\n",
        "df1['Gender'] = df1['Gender'].replace({'F': 'Female', 'M': 'Male'})\n",
        "\n",
        "# Convert Age Column to Numeric and Handle Invalid Values\n",
        "df1['Age'] = pd.to_numeric(df1['Age'], errors='coerce')  # Convert '-' to NaN\n",
        "df1.loc[df1['Age'] > 120, 'Age'] = np.nan  # Remove unrealistic ages\n",
        "\n",
        "# Remove Duplicate CustomerID Entries in Dataset 1\n",
        "df1 = df1.drop_duplicates(subset='CustomerID', keep='first')\n",
        "\n",
        "# Standardize CustID to Match CustomerID in Dataset 2\n",
        "df2.rename(columns={'CustID': 'CustomerID'}, inplace=True)\n",
        "\n",
        "# Remove Invalid Responses from Dataset 2\n",
        "df2.replace({'African': np.nan, 'Female': np.nan, '': np.nan}, inplace=True)\n",
        "\n",
        "# Remove Duplicate CustomerID Entries in Dataset 2\n",
        "df2 = df2.drop_duplicates(subset='CustomerID', keep='first')\n",
        "\n",
        "# Merge Datasets on CustomerID\n",
        "df_merged = pd.merge(df1, df2, on='CustomerID', how='inner')\n",
        "\n",
        "# Display Cleaned & Merged Dataset\n",
        "print(df_merged)\n"
      ]
    }
  ]
}