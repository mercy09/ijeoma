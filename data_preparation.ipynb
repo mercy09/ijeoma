{
  "nbformat": 4,
  "nbformat_minor": 0,
  "metadata": {
    "colab": {
      "provenance": [],
      "gpuType": "T4",
      "include_colab_link": true
    },
    "kernelspec": {
      "name": "python3",
      "display_name": "Python 3"
    },
    "language_info": {
      "name": "python"
    },
    "accelerator": "GPU"
  },
  "cells": [
    {
      "cell_type": "markdown",
      "metadata": {
        "id": "view-in-github",
        "colab_type": "text"
      },
      "source": [
        "<a href=\"https://colab.research.google.com/github/mercy09/ijeoma/blob/main/data_preparation.ipynb\" target=\"_parent\"><img src=\"https://colab.research.google.com/assets/colab-badge.svg\" alt=\"Open In Colab\"/></a>"
      ]
    },
    {
      "cell_type": "code",
      "execution_count": null,
      "metadata": {
        "id": "WJve3I63w9Wi"
      },
      "outputs": [],
      "source": [
        "# Install necessary libraries if not already available\n",
        "!pip install pandas\n",
        "!pip install numpy\n"
      ]
    },
    {
      "cell_type": "code",
      "source": [
        "# Importing the required libraries\n",
        "import pandas as pd\n",
        "import numpy as np"
      ],
      "metadata": {
        "id": "V1HZpZHzxhaU"
      },
      "execution_count": null,
      "outputs": []
    },
    {
      "cell_type": "code",
      "source": [
        "# Data Preparation Stage 1: Data Collection\n",
        "# Create a simulated dataset for a restaurant\n",
        "data = {\n",
        "    'CustomerID': [1, 2, 3, 4, 5, 6, 7, 8, 9, 10],\n",
        "    'OrderValue': [30.5, np.nan, 45.0, 20.0, 55.0, 60.0, -5, 70.0, 80.0, 90.0],\n",
        "    'Feedback': ['Good', 'Very Good', None, 'Average', 'Excellent', '', 'Poor', 'Good', 'Very Good', 'Excellent']\n",
        "     }\n"
      ],
      "metadata": {
        "id": "l2rYHqMbxjGv"
      },
      "execution_count": null,
      "outputs": []
    },
    {
      "cell_type": "code",
      "source": [],
      "metadata": {
        "id": "Cd4cEFqUGsyP"
      },
      "execution_count": null,
      "outputs": []
    },
    {
      "cell_type": "code",
      "source": [
        "# Creating a DataFrame\n",
        "df = pd.DataFrame(data)\n",
        "#df = pd.read_csv('');\n",
        "\n",
        "#Initial DataFrame\n",
        "print(df)"
      ],
      "metadata": {
        "id": "iLG9aBAixrLA",
        "colab": {
          "base_uri": "https://localhost:8080/"
        },
        "outputId": "d0a9a307-a2ac-4eee-db70-cf1b9cee7801"
      },
      "execution_count": null,
      "outputs": [
        {
          "output_type": "stream",
          "name": "stdout",
          "text": [
            "   CustomerID  OrderValue   Feedback\n",
            "0           1        30.5       Good\n",
            "1           2         NaN  Very Good\n",
            "2           3        45.0       None\n",
            "3           4        20.0    Average\n",
            "4           5        55.0  Excellent\n",
            "5           6        60.0           \n",
            "6           7        -5.0       Poor\n",
            "7           8        70.0       Good\n",
            "8           9        80.0  Very Good\n",
            "9          10        90.0  Excellent\n"
          ]
        }
      ]
    },
    {
      "cell_type": "code",
      "source": [
        "df.describe()"
      ],
      "metadata": {
        "colab": {
          "base_uri": "https://localhost:8080/",
          "height": 300
        },
        "id": "Lz3SGXzkG_Pw",
        "outputId": "dd632551-7014-491c-cf05-c74eadd2e22b"
      },
      "execution_count": null,
      "outputs": [
        {
          "output_type": "execute_result",
          "data": {
            "text/plain": [
              "       CustomerID  OrderValue\n",
              "count    10.00000    9.000000\n",
              "mean      5.50000   49.500000\n",
              "std       3.02765   30.317074\n",
              "min       1.00000   -5.000000\n",
              "25%       3.25000   30.500000\n",
              "50%       5.50000   55.000000\n",
              "75%       7.75000   70.000000\n",
              "max      10.00000   90.000000"
            ],
            "text/html": [
              "\n",
              "  <div id=\"df-b86c0cc3-ff78-4e32-8c18-44f2e6ad9a10\" class=\"colab-df-container\">\n",
              "    <div>\n",
              "<style scoped>\n",
              "    .dataframe tbody tr th:only-of-type {\n",
              "        vertical-align: middle;\n",
              "    }\n",
              "\n",
              "    .dataframe tbody tr th {\n",
              "        vertical-align: top;\n",
              "    }\n",
              "\n",
              "    .dataframe thead th {\n",
              "        text-align: right;\n",
              "    }\n",
              "</style>\n",
              "<table border=\"1\" class=\"dataframe\">\n",
              "  <thead>\n",
              "    <tr style=\"text-align: right;\">\n",
              "      <th></th>\n",
              "      <th>CustomerID</th>\n",
              "      <th>OrderValue</th>\n",
              "    </tr>\n",
              "  </thead>\n",
              "  <tbody>\n",
              "    <tr>\n",
              "      <th>count</th>\n",
              "      <td>10.00000</td>\n",
              "      <td>9.000000</td>\n",
              "    </tr>\n",
              "    <tr>\n",
              "      <th>mean</th>\n",
              "      <td>5.50000</td>\n",
              "      <td>49.500000</td>\n",
              "    </tr>\n",
              "    <tr>\n",
              "      <th>std</th>\n",
              "      <td>3.02765</td>\n",
              "      <td>30.317074</td>\n",
              "    </tr>\n",
              "    <tr>\n",
              "      <th>min</th>\n",
              "      <td>1.00000</td>\n",
              "      <td>-5.000000</td>\n",
              "    </tr>\n",
              "    <tr>\n",
              "      <th>25%</th>\n",
              "      <td>3.25000</td>\n",
              "      <td>30.500000</td>\n",
              "    </tr>\n",
              "    <tr>\n",
              "      <th>50%</th>\n",
              "      <td>5.50000</td>\n",
              "      <td>55.000000</td>\n",
              "    </tr>\n",
              "    <tr>\n",
              "      <th>75%</th>\n",
              "      <td>7.75000</td>\n",
              "      <td>70.000000</td>\n",
              "    </tr>\n",
              "    <tr>\n",
              "      <th>max</th>\n",
              "      <td>10.00000</td>\n",
              "      <td>90.000000</td>\n",
              "    </tr>\n",
              "  </tbody>\n",
              "</table>\n",
              "</div>\n",
              "    <div class=\"colab-df-buttons\">\n",
              "\n",
              "  <div class=\"colab-df-container\">\n",
              "    <button class=\"colab-df-convert\" onclick=\"convertToInteractive('df-b86c0cc3-ff78-4e32-8c18-44f2e6ad9a10')\"\n",
              "            title=\"Convert this dataframe to an interactive table.\"\n",
              "            style=\"display:none;\">\n",
              "\n",
              "  <svg xmlns=\"http://www.w3.org/2000/svg\" height=\"24px\" viewBox=\"0 -960 960 960\">\n",
              "    <path d=\"M120-120v-720h720v720H120Zm60-500h600v-160H180v160Zm220 220h160v-160H400v160Zm0 220h160v-160H400v160ZM180-400h160v-160H180v160Zm440 0h160v-160H620v160ZM180-180h160v-160H180v160Zm440 0h160v-160H620v160Z\"/>\n",
              "  </svg>\n",
              "    </button>\n",
              "\n",
              "  <style>\n",
              "    .colab-df-container {\n",
              "      display:flex;\n",
              "      gap: 12px;\n",
              "    }\n",
              "\n",
              "    .colab-df-convert {\n",
              "      background-color: #E8F0FE;\n",
              "      border: none;\n",
              "      border-radius: 50%;\n",
              "      cursor: pointer;\n",
              "      display: none;\n",
              "      fill: #1967D2;\n",
              "      height: 32px;\n",
              "      padding: 0 0 0 0;\n",
              "      width: 32px;\n",
              "    }\n",
              "\n",
              "    .colab-df-convert:hover {\n",
              "      background-color: #E2EBFA;\n",
              "      box-shadow: 0px 1px 2px rgba(60, 64, 67, 0.3), 0px 1px 3px 1px rgba(60, 64, 67, 0.15);\n",
              "      fill: #174EA6;\n",
              "    }\n",
              "\n",
              "    .colab-df-buttons div {\n",
              "      margin-bottom: 4px;\n",
              "    }\n",
              "\n",
              "    [theme=dark] .colab-df-convert {\n",
              "      background-color: #3B4455;\n",
              "      fill: #D2E3FC;\n",
              "    }\n",
              "\n",
              "    [theme=dark] .colab-df-convert:hover {\n",
              "      background-color: #434B5C;\n",
              "      box-shadow: 0px 1px 3px 1px rgba(0, 0, 0, 0.15);\n",
              "      filter: drop-shadow(0px 1px 2px rgba(0, 0, 0, 0.3));\n",
              "      fill: #FFFFFF;\n",
              "    }\n",
              "  </style>\n",
              "\n",
              "    <script>\n",
              "      const buttonEl =\n",
              "        document.querySelector('#df-b86c0cc3-ff78-4e32-8c18-44f2e6ad9a10 button.colab-df-convert');\n",
              "      buttonEl.style.display =\n",
              "        google.colab.kernel.accessAllowed ? 'block' : 'none';\n",
              "\n",
              "      async function convertToInteractive(key) {\n",
              "        const element = document.querySelector('#df-b86c0cc3-ff78-4e32-8c18-44f2e6ad9a10');\n",
              "        const dataTable =\n",
              "          await google.colab.kernel.invokeFunction('convertToInteractive',\n",
              "                                                    [key], {});\n",
              "        if (!dataTable) return;\n",
              "\n",
              "        const docLinkHtml = 'Like what you see? Visit the ' +\n",
              "          '<a target=\"_blank\" href=https://colab.research.google.com/notebooks/data_table.ipynb>data table notebook</a>'\n",
              "          + ' to learn more about interactive tables.';\n",
              "        element.innerHTML = '';\n",
              "        dataTable['output_type'] = 'display_data';\n",
              "        await google.colab.output.renderOutput(dataTable, element);\n",
              "        const docLink = document.createElement('div');\n",
              "        docLink.innerHTML = docLinkHtml;\n",
              "        element.appendChild(docLink);\n",
              "      }\n",
              "    </script>\n",
              "  </div>\n",
              "\n",
              "\n",
              "    <div id=\"df-a9ddd00b-5d5f-44ad-b2ca-5fa1064f4d77\">\n",
              "      <button class=\"colab-df-quickchart\" onclick=\"quickchart('df-a9ddd00b-5d5f-44ad-b2ca-5fa1064f4d77')\"\n",
              "                title=\"Suggest charts\"\n",
              "                style=\"display:none;\">\n",
              "\n",
              "<svg xmlns=\"http://www.w3.org/2000/svg\" height=\"24px\"viewBox=\"0 0 24 24\"\n",
              "     width=\"24px\">\n",
              "    <g>\n",
              "        <path d=\"M19 3H5c-1.1 0-2 .9-2 2v14c0 1.1.9 2 2 2h14c1.1 0 2-.9 2-2V5c0-1.1-.9-2-2-2zM9 17H7v-7h2v7zm4 0h-2V7h2v10zm4 0h-2v-4h2v4z\"/>\n",
              "    </g>\n",
              "</svg>\n",
              "      </button>\n",
              "\n",
              "<style>\n",
              "  .colab-df-quickchart {\n",
              "      --bg-color: #E8F0FE;\n",
              "      --fill-color: #1967D2;\n",
              "      --hover-bg-color: #E2EBFA;\n",
              "      --hover-fill-color: #174EA6;\n",
              "      --disabled-fill-color: #AAA;\n",
              "      --disabled-bg-color: #DDD;\n",
              "  }\n",
              "\n",
              "  [theme=dark] .colab-df-quickchart {\n",
              "      --bg-color: #3B4455;\n",
              "      --fill-color: #D2E3FC;\n",
              "      --hover-bg-color: #434B5C;\n",
              "      --hover-fill-color: #FFFFFF;\n",
              "      --disabled-bg-color: #3B4455;\n",
              "      --disabled-fill-color: #666;\n",
              "  }\n",
              "\n",
              "  .colab-df-quickchart {\n",
              "    background-color: var(--bg-color);\n",
              "    border: none;\n",
              "    border-radius: 50%;\n",
              "    cursor: pointer;\n",
              "    display: none;\n",
              "    fill: var(--fill-color);\n",
              "    height: 32px;\n",
              "    padding: 0;\n",
              "    width: 32px;\n",
              "  }\n",
              "\n",
              "  .colab-df-quickchart:hover {\n",
              "    background-color: var(--hover-bg-color);\n",
              "    box-shadow: 0 1px 2px rgba(60, 64, 67, 0.3), 0 1px 3px 1px rgba(60, 64, 67, 0.15);\n",
              "    fill: var(--button-hover-fill-color);\n",
              "  }\n",
              "\n",
              "  .colab-df-quickchart-complete:disabled,\n",
              "  .colab-df-quickchart-complete:disabled:hover {\n",
              "    background-color: var(--disabled-bg-color);\n",
              "    fill: var(--disabled-fill-color);\n",
              "    box-shadow: none;\n",
              "  }\n",
              "\n",
              "  .colab-df-spinner {\n",
              "    border: 2px solid var(--fill-color);\n",
              "    border-color: transparent;\n",
              "    border-bottom-color: var(--fill-color);\n",
              "    animation:\n",
              "      spin 1s steps(1) infinite;\n",
              "  }\n",
              "\n",
              "  @keyframes spin {\n",
              "    0% {\n",
              "      border-color: transparent;\n",
              "      border-bottom-color: var(--fill-color);\n",
              "      border-left-color: var(--fill-color);\n",
              "    }\n",
              "    20% {\n",
              "      border-color: transparent;\n",
              "      border-left-color: var(--fill-color);\n",
              "      border-top-color: var(--fill-color);\n",
              "    }\n",
              "    30% {\n",
              "      border-color: transparent;\n",
              "      border-left-color: var(--fill-color);\n",
              "      border-top-color: var(--fill-color);\n",
              "      border-right-color: var(--fill-color);\n",
              "    }\n",
              "    40% {\n",
              "      border-color: transparent;\n",
              "      border-right-color: var(--fill-color);\n",
              "      border-top-color: var(--fill-color);\n",
              "    }\n",
              "    60% {\n",
              "      border-color: transparent;\n",
              "      border-right-color: var(--fill-color);\n",
              "    }\n",
              "    80% {\n",
              "      border-color: transparent;\n",
              "      border-right-color: var(--fill-color);\n",
              "      border-bottom-color: var(--fill-color);\n",
              "    }\n",
              "    90% {\n",
              "      border-color: transparent;\n",
              "      border-bottom-color: var(--fill-color);\n",
              "    }\n",
              "  }\n",
              "</style>\n",
              "\n",
              "      <script>\n",
              "        async function quickchart(key) {\n",
              "          const quickchartButtonEl =\n",
              "            document.querySelector('#' + key + ' button');\n",
              "          quickchartButtonEl.disabled = true;  // To prevent multiple clicks.\n",
              "          quickchartButtonEl.classList.add('colab-df-spinner');\n",
              "          try {\n",
              "            const charts = await google.colab.kernel.invokeFunction(\n",
              "                'suggestCharts', [key], {});\n",
              "          } catch (error) {\n",
              "            console.error('Error during call to suggestCharts:', error);\n",
              "          }\n",
              "          quickchartButtonEl.classList.remove('colab-df-spinner');\n",
              "          quickchartButtonEl.classList.add('colab-df-quickchart-complete');\n",
              "        }\n",
              "        (() => {\n",
              "          let quickchartButtonEl =\n",
              "            document.querySelector('#df-a9ddd00b-5d5f-44ad-b2ca-5fa1064f4d77 button');\n",
              "          quickchartButtonEl.style.display =\n",
              "            google.colab.kernel.accessAllowed ? 'block' : 'none';\n",
              "        })();\n",
              "      </script>\n",
              "    </div>\n",
              "\n",
              "    </div>\n",
              "  </div>\n"
            ],
            "application/vnd.google.colaboratory.intrinsic+json": {
              "type": "dataframe",
              "summary": "{\n  \"name\": \"df\",\n  \"rows\": 8,\n  \"fields\": [\n    {\n      \"column\": \"CustomerID\",\n      \"properties\": {\n        \"dtype\": \"number\",\n        \"std\": 3.3052683493128554,\n        \"min\": 1.0,\n        \"max\": 10.0,\n        \"num_unique_values\": 6,\n        \"samples\": [\n          10.0,\n          5.5,\n          7.75\n        ],\n        \"semantic_type\": \"\",\n        \"description\": \"\"\n      }\n    },\n    {\n      \"column\": \"OrderValue\",\n      \"properties\": {\n        \"dtype\": \"number\",\n        \"std\": 31.337809349583516,\n        \"min\": -5.0,\n        \"max\": 90.0,\n        \"num_unique_values\": 8,\n        \"samples\": [\n          49.5,\n          55.0,\n          9.0\n        ],\n        \"semantic_type\": \"\",\n        \"description\": \"\"\n      }\n    }\n  ]\n}"
            }
          },
          "metadata": {},
          "execution_count": 8
        }
      ]
    },
    {
      "cell_type": "code",
      "source": [
        "# Data Cleaning - Handling Missing Values\n",
        "# Filling missing values in 'OrderValue' with the mean, and dropping rows with NaN in 'Feedback'\n",
        "# Fill missing OrderValue with mean\n",
        "order_value_mean = df['OrderValue'].mean()\n",
        "df['OrderValue'] = df['OrderValue'].fillna(order_value_mean)\n",
        "\n",
        "# Replace empty strings with NaN in Feedback\n",
        "df['Feedback'] = df['Feedback'].replace('', np.nan)\n",
        "\n",
        "\n",
        "print(df)"
      ],
      "metadata": {
        "id": "Pz6wLCdAxvs4",
        "colab": {
          "base_uri": "https://localhost:8080/"
        },
        "outputId": "ac2c6813-2403-4e0a-8c1f-be7d07d2b8c4"
      },
      "execution_count": null,
      "outputs": [
        {
          "output_type": "stream",
          "name": "stdout",
          "text": [
            "   CustomerID  OrderValue   Feedback\n",
            "0           1        30.5       Good\n",
            "1           2        49.5  Very Good\n",
            "2           3        45.0       None\n",
            "3           4        20.0    Average\n",
            "4           5        55.0  Excellent\n",
            "5           6        60.0        NaN\n",
            "6           7        -5.0       Poor\n",
            "7           8        70.0       Good\n",
            "8           9        80.0  Very Good\n",
            "9          10        90.0  Excellent\n"
          ]
        }
      ]
    },
    {
      "cell_type": "code",
      "source": [
        "# Drop rows where Feedback is NaN\n",
        "df = df.dropna(subset=['Feedback'])"
      ],
      "metadata": {
        "id": "63AHegnLHpKl"
      },
      "execution_count": null,
      "outputs": []
    },
    {
      "cell_type": "code",
      "source": [
        "# Replace empty strings with NaN in Feedback\n",
        "df['Feedback'] = df['Feedback'].replace('', np.nan)\n",
        "\n",
        "# Drop rows where Feedback is NaN\n",
        "df = df.dropna(subset=['Feedback'])\n",
        "print(df)"
      ],
      "metadata": {
        "colab": {
          "base_uri": "https://localhost:8080/"
        },
        "id": "-RyuMn9HHf9F",
        "outputId": "9b47d91b-bf07-4dfc-e535-4a36e671a148"
      },
      "execution_count": null,
      "outputs": [
        {
          "output_type": "stream",
          "name": "stdout",
          "text": [
            "   CustomerID  OrderValue   Feedback\n",
            "0           1        30.5       Good\n",
            "1           2        49.5  Very Good\n",
            "3           4        20.0    Average\n",
            "4           5        55.0  Excellent\n",
            "6           7        -5.0       Poor\n",
            "7           8        70.0       Good\n",
            "8           9        80.0  Very Good\n",
            "9          10        90.0  Excellent\n"
          ]
        }
      ]
    },
    {
      "cell_type": "code",
      "source": [
        "# Data Cleaning - Handling Negative Values\n",
        "# We will replace negative 'OrderValue' with 0, as negative order values are not valid\n",
        "df.loc[df['OrderValue'] < 0, 'OrderValue'] = 0\n",
        "\n",
        "print(\"\\nDataFrame after Cleaning:\")\n",
        "print(df)"
      ],
      "metadata": {
        "id": "8aV7fI5dyTN_",
        "colab": {
          "base_uri": "https://localhost:8080/"
        },
        "outputId": "290f9849-ac45-4e06-c0e9-8689179f86bf"
      },
      "execution_count": null,
      "outputs": [
        {
          "output_type": "stream",
          "name": "stdout",
          "text": [
            "\n",
            "DataFrame after Cleaning:\n",
            "   CustomerID  OrderValue   Feedback\n",
            "0           1        30.5       Good\n",
            "1           2        49.5  Very Good\n",
            "3           4        20.0    Average\n",
            "4           5        55.0  Excellent\n",
            "6           7         0.0       Poor\n",
            "7           8        70.0       Good\n",
            "8           9        80.0  Very Good\n",
            "9          10        90.0  Excellent\n"
          ]
        }
      ]
    },
    {
      "cell_type": "code",
      "source": [
        "#Data Transformation - Creating a New Column for Feedback Score\n",
        "# Mapping feedback text to their respective scores (1 to 5 scale)\n",
        "feedback_mapping = {'Poor': 1, 'Average': 2, 'Good': 3, 'Very Good': 4, 'Excellent': 5}\n",
        "df['FeedbackScore'] = df['Feedback'].map(feedback_mapping)\n",
        "print(df)"
      ],
      "metadata": {
        "id": "eYx76rdOydNr",
        "colab": {
          "base_uri": "https://localhost:8080/"
        },
        "outputId": "8659033a-5328-4d43-e228-3e2617150dc1"
      },
      "execution_count": null,
      "outputs": [
        {
          "output_type": "stream",
          "name": "stdout",
          "text": [
            "   CustomerID  OrderValue   Feedback  FeedbackScore\n",
            "0           1        30.5       Good              3\n",
            "1           2        49.5  Very Good              4\n",
            "3           4        20.0    Average              2\n",
            "4           5        55.0  Excellent              5\n",
            "6           7         0.0       Poor              1\n",
            "7           8        70.0       Good              3\n",
            "8           9        80.0  Very Good              4\n",
            "9          10        90.0  Excellent              5\n"
          ]
        }
      ]
    },
    {
      "cell_type": "code",
      "source": [
        "#Data Transformation - Normalizing 'OrderValue' to a 0-1 scale\n",
        "df['NormalizedOrderValue'] = (df['OrderValue'] - df['OrderValue'].min()) / (df['OrderValue'].max() - df['OrderValue'].min())\n",
        "print(df)"
      ],
      "metadata": {
        "id": "j8WJ0tI-ykVx",
        "colab": {
          "base_uri": "https://localhost:8080/"
        },
        "outputId": "a335e296-a938-45d2-e322-de5bf5b9013e"
      },
      "execution_count": null,
      "outputs": [
        {
          "output_type": "stream",
          "name": "stdout",
          "text": [
            "   CustomerID  OrderValue   Feedback  FeedbackScore  NormalizedOrderValue\n",
            "0           1        30.5       Good              3              0.338889\n",
            "1           2        49.5  Very Good              4              0.550000\n",
            "3           4        20.0    Average              2              0.222222\n",
            "4           5        55.0  Excellent              5              0.611111\n",
            "6           7         0.0       Poor              1              0.000000\n",
            "7           8        70.0       Good              3              0.777778\n",
            "8           9        80.0  Very Good              4              0.888889\n",
            "9          10        90.0  Excellent              5              1.000000\n"
          ]
        }
      ]
    },
    {
      "cell_type": "code",
      "source": [
        "print(\"\\nDataFrame after Transformation:\")\n",
        "print(df)"
      ],
      "metadata": {
        "id": "pLIRCdgXyqSe",
        "colab": {
          "base_uri": "https://localhost:8080/"
        },
        "outputId": "587bf140-ada5-4888-aad0-80a6cb9bd299"
      },
      "execution_count": null,
      "outputs": [
        {
          "output_type": "stream",
          "name": "stdout",
          "text": [
            "\n",
            "DataFrame after Transformation:\n",
            "   CustomerID  OrderValue   Feedback  FeedbackScore  NormalizedOrderValue\n",
            "0           1        30.5       Good              3              0.338889\n",
            "1           2        49.5  Very Good              4              0.550000\n",
            "3           4        20.0    Average              2              0.222222\n",
            "4           5        55.0  Excellent              5              0.611111\n",
            "6           7         0.0       Poor              1              0.000000\n",
            "7           8        70.0       Good              3              0.777778\n",
            "8           9        80.0  Very Good              4              0.888889\n",
            "9          10        90.0  Excellent              5              1.000000\n"
          ]
        }
      ]
    },
    {
      "cell_type": "code",
      "source": [
        "#Data Validation - Validating Data Types\n",
        "print(\"\\nData Types:\")\n",
        "print(df.dtypes)"
      ],
      "metadata": {
        "id": "1q844VWdyvlP",
        "colab": {
          "base_uri": "https://localhost:8080/"
        },
        "outputId": "affdab77-66d1-4df6-a094-96054d0c0128"
      },
      "execution_count": null,
      "outputs": [
        {
          "output_type": "stream",
          "name": "stdout",
          "text": [
            "\n",
            "Data Types:\n",
            "CustomerID                int64\n",
            "OrderValue              float64\n",
            "Feedback                 object\n",
            "FeedbackScore             int64\n",
            "NormalizedOrderValue    float64\n",
            "dtype: object\n"
          ]
        }
      ]
    },
    {
      "cell_type": "code",
      "source": [
        "# Data validation - Checking for Duplicates\n",
        "duplicates = df.duplicated()\n",
        "print(\"\\nDuplicate Rows:\")\n",
        "print(df[duplicates])"
      ],
      "metadata": {
        "id": "CIuYyLmpy3ff",
        "colab": {
          "base_uri": "https://localhost:8080/"
        },
        "outputId": "1509aca2-671b-4d76-bfea-41534d319452"
      },
      "execution_count": null,
      "outputs": [
        {
          "output_type": "stream",
          "name": "stdout",
          "text": [
            "\n",
            "Duplicate Rows:\n",
            "Empty DataFrame\n",
            "Columns: [CustomerID, OrderValue, Feedback, FeedbackScore, NormalizedOrderValue]\n",
            "Index: []\n"
          ]
        }
      ]
    },
    {
      "cell_type": "code",
      "source": [
        "#Summary Statistics\n",
        "summary_stats = df.describe()\n",
        "print(\"\\nSummary Statistics:\")\n",
        "print(summary_stats)"
      ],
      "metadata": {
        "id": "wFcEqMs7y-7O",
        "colab": {
          "base_uri": "https://localhost:8080/"
        },
        "outputId": "22b82d5d-9d92-4ae7-eebb-31c7c64f5b49"
      },
      "execution_count": null,
      "outputs": [
        {
          "output_type": "stream",
          "name": "stdout",
          "text": [
            "\n",
            "Summary Statistics:\n",
            "       CustomerID  OrderValue  FeedbackScore  NormalizedOrderValue\n",
            "count    8.000000    8.000000       8.000000              8.000000\n",
            "mean     5.750000   49.375000       3.375000              0.548611\n",
            "std      3.284161   30.943208       1.407886              0.343813\n",
            "min      1.000000    0.000000       1.000000              0.000000\n",
            "25%      3.500000   27.875000       2.750000              0.309722\n",
            "50%      6.000000   52.250000       3.500000              0.580556\n",
            "75%      8.250000   72.500000       4.250000              0.805556\n",
            "max     10.000000   90.000000       5.000000              1.000000\n"
          ]
        }
      ]
    },
    {
      "cell_type": "code",
      "source": [
        "# Saving the prepared DataFrame to a CSV file\n",
        "df.to_csv('prepared_restaurant_data.csv', index=False)\n",
        "print(\"\\nPrepared data saved to 'prepared_restaurant_data.csv'.\")"
      ],
      "metadata": {
        "id": "z2n7hEvKzDZ_"
      },
      "execution_count": null,
      "outputs": []
    }
  ]
}