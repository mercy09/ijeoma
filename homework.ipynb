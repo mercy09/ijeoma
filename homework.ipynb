{
  "nbformat": 4,
  "nbformat_minor": 0,
  "metadata": {
    "colab": {
      "provenance": [],
      "authorship_tag": "ABX9TyMubOw/Fsf+3x5O8yh5gvpJ",
      "include_colab_link": true
    },
    "kernelspec": {
      "name": "python3",
      "display_name": "Python 3"
    },
    "language_info": {
      "name": "python"
    }
  },
  "cells": [
    {
      "cell_type": "markdown",
      "metadata": {
        "id": "view-in-github",
        "colab_type": "text"
      },
      "source": [
        "<a href=\"https://colab.research.google.com/github/mercy09/ijeoma/blob/main/homework.ipynb\" target=\"_parent\"><img src=\"https://colab.research.google.com/assets/colab-badge.svg\" alt=\"Open In Colab\"/></a>"
      ]
    },
    {
      "cell_type": "code",
      "execution_count": null,
      "metadata": {
        "id": "IH2u7iOlrlYy"
      },
      "outputs": [],
      "source": [
        "import pandas as pd\n",
        "\n",
        "# Load the dataset\n",
        "data = pd.read_csv(\"https://raw.githubusercontent.com/DataOasis/Datasets/main/customer_purchases.csv\")\n",
        "\n",
        "# Step 1: Handle Missing Values\n",
        "# - Fill missing 'Age' with the median age\n",
        "data['Age'].fillna(data['Age'].median(), inplace=True)\n",
        "\n",
        "# - Fill missing 'Price' with the median price per product category\n",
        "data['Price'].fillna(data.groupby('Product')['Price'].transform('median'), inplace=True)\n",
        "\n",
        "# - Fill missing 'RatingOfProduct' with the mean rating per product category\n",
        "data['RatingOfProduct'].fillna(data.groupby('Product')['RatingOfProduct'].transform('mean'), inplace=True)\n",
        "\n",
        "# - Fill missing 'AdvertisingAgency' with the most common (mode) value\n",
        "data['AdvertisingAgency'].fillna(data['AdvertisingAgency'].mode()[0], inplace=True)\n",
        "\n",
        "# - Remove rows where 'DatePurchased' is missing, since it's a crucial field\n",
        "data.dropna(subset=['DatePurchased'], inplace=True)\n",
        "\n",
        "# Step 2: Convert Data Types\n",
        "data['DatePurchased'] = pd.to_datetime(data['DatePurchased'])  # Convert to datetime\n",
        "data['Price'] = data['Price'].astype(float)  # Convert to float\n",
        "data['RatingOfProduct'] = data['RatingOfProduct'].astype(float)  # Convert to float\n",
        "\n",
        "# Step 3: Remove Duplicates\n",
        "data.drop_duplicates(subset=['custName', 'Product', 'DatePurchased'], keep='first', inplace=True)\n",
        "\n",
        "# Step 4: Save Cleaned Data to Excel\n",
        "cleaned_file_path = \"/mnt/data/cleaned_customer_data.xlsx\"\n",
        "data.to_excel(cleaned_file_path, index=False)\n",
        "\n",
        "# Display first few rows of cleaned data\n",
        "data.head()"
      ]
    }
  ]
}